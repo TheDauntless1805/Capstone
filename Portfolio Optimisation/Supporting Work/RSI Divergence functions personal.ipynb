{
 "cells": [
  {
   "cell_type": "code",
   "execution_count": 1,
   "id": "69943683",
   "metadata": {},
   "outputs": [],
   "source": [
    "import yfinance as yf\n",
    "from datetime import datetime\n",
    "import pandas as pd\n",
    "# import warnings\n",
    "# warnings.filterwarnings('ignore' )"
   ]
  },
  {
   "cell_type": "code",
   "execution_count": 2,
   "id": "afa76968",
   "metadata": {},
   "outputs": [
    {
     "name": "stdout",
     "output_type": "stream",
     "text": [
      "[*********************100%***********************]  2 of 2 completed\n"
     ]
    }
   ],
   "source": [
    "\n",
    "tickers = [\"TATAMOTORS.NS\",\"RELIANCE.NS\"]\n",
    "start = '2020-01-01'\n",
    "end = '2021-12-21'\n",
    "source = 'yahoo'\n",
    "data = yf.download(tickers,start=start,end=end)"
   ]
  },
  {
   "cell_type": "code",
   "execution_count": 3,
   "id": "0cedf0db",
   "metadata": {},
   "outputs": [
    {
     "data": {
      "text/plain": [
       "MultiIndex([('Adj Close',   'RELIANCE.NS'),\n",
       "            ('Adj Close', 'TATAMOTORS.NS'),\n",
       "            (    'Close',   'RELIANCE.NS'),\n",
       "            (    'Close', 'TATAMOTORS.NS'),\n",
       "            (     'High',   'RELIANCE.NS'),\n",
       "            (     'High', 'TATAMOTORS.NS'),\n",
       "            (      'Low',   'RELIANCE.NS'),\n",
       "            (      'Low', 'TATAMOTORS.NS'),\n",
       "            (     'Open',   'RELIANCE.NS'),\n",
       "            (     'Open', 'TATAMOTORS.NS'),\n",
       "            (   'Volume',   'RELIANCE.NS'),\n",
       "            (   'Volume', 'TATAMOTORS.NS')],\n",
       "           )"
      ]
     },
     "execution_count": 3,
     "metadata": {},
     "output_type": "execute_result"
    }
   ],
   "source": [
    "data.columns # checking all the columns of the downloaded data"
   ]
  },
  {
   "cell_type": "code",
   "execution_count": 4,
   "id": "e94862e4",
   "metadata": {},
   "outputs": [],
   "source": [
    "data1= data.Close # applying formulae on close column"
   ]
  },
  {
   "cell_type": "code",
   "execution_count": 5,
   "id": "5ae533a3",
   "metadata": {},
   "outputs": [],
   "source": [
    "data1 = pd.DataFrame(data1)# converting data1 in pandas data frame"
   ]
  },
  {
   "cell_type": "code",
   "execution_count": 6,
   "id": "b261891d-ad02-47b5-83b7-d13b5c3428c8",
   "metadata": {},
   "outputs": [
    {
     "data": {
      "text/html": [
       "<div>\n",
       "<style scoped>\n",
       "    .dataframe tbody tr th:only-of-type {\n",
       "        vertical-align: middle;\n",
       "    }\n",
       "\n",
       "    .dataframe tbody tr th {\n",
       "        vertical-align: top;\n",
       "    }\n",
       "\n",
       "    .dataframe thead th {\n",
       "        text-align: right;\n",
       "    }\n",
       "</style>\n",
       "<table border=\"1\" class=\"dataframe\">\n",
       "  <thead>\n",
       "    <tr style=\"text-align: right;\">\n",
       "      <th></th>\n",
       "      <th>RELIANCE.NS</th>\n",
       "      <th>TATAMOTORS.NS</th>\n",
       "    </tr>\n",
       "    <tr>\n",
       "      <th>Date</th>\n",
       "      <th></th>\n",
       "      <th></th>\n",
       "    </tr>\n",
       "  </thead>\n",
       "  <tbody>\n",
       "    <tr>\n",
       "      <th>2020-01-01</th>\n",
       "      <td>1495.424927</td>\n",
       "      <td>184.449997</td>\n",
       "    </tr>\n",
       "    <tr>\n",
       "      <th>2020-01-02</th>\n",
       "      <td>1520.883545</td>\n",
       "      <td>193.750000</td>\n",
       "    </tr>\n",
       "    <tr>\n",
       "      <th>2020-01-03</th>\n",
       "      <td>1522.716187</td>\n",
       "      <td>191.100006</td>\n",
       "    </tr>\n",
       "    <tr>\n",
       "      <th>2020-01-06</th>\n",
       "      <td>1487.400879</td>\n",
       "      <td>185.649994</td>\n",
       "    </tr>\n",
       "    <tr>\n",
       "      <th>2020-01-07</th>\n",
       "      <td>1510.284058</td>\n",
       "      <td>184.699997</td>\n",
       "    </tr>\n",
       "    <tr>\n",
       "      <th>...</th>\n",
       "      <td>...</td>\n",
       "      <td>...</td>\n",
       "    </tr>\n",
       "    <tr>\n",
       "      <th>2021-12-14</th>\n",
       "      <td>2380.149902</td>\n",
       "      <td>489.399994</td>\n",
       "    </tr>\n",
       "    <tr>\n",
       "      <th>2021-12-15</th>\n",
       "      <td>2373.199951</td>\n",
       "      <td>491.649994</td>\n",
       "    </tr>\n",
       "    <tr>\n",
       "      <th>2021-12-16</th>\n",
       "      <td>2403.899902</td>\n",
       "      <td>491.950012</td>\n",
       "    </tr>\n",
       "    <tr>\n",
       "      <th>2021-12-17</th>\n",
       "      <td>2340.449951</td>\n",
       "      <td>470.200012</td>\n",
       "    </tr>\n",
       "    <tr>\n",
       "      <th>2021-12-20</th>\n",
       "      <td>2277.350098</td>\n",
       "      <td>447.049988</td>\n",
       "    </tr>\n",
       "  </tbody>\n",
       "</table>\n",
       "<p>490 rows × 2 columns</p>\n",
       "</div>"
      ],
      "text/plain": [
       "            RELIANCE.NS  TATAMOTORS.NS\n",
       "Date                                  \n",
       "2020-01-01  1495.424927     184.449997\n",
       "2020-01-02  1520.883545     193.750000\n",
       "2020-01-03  1522.716187     191.100006\n",
       "2020-01-06  1487.400879     185.649994\n",
       "2020-01-07  1510.284058     184.699997\n",
       "...                 ...            ...\n",
       "2021-12-14  2380.149902     489.399994\n",
       "2021-12-15  2373.199951     491.649994\n",
       "2021-12-16  2403.899902     491.950012\n",
       "2021-12-17  2340.449951     470.200012\n",
       "2021-12-20  2277.350098     447.049988\n",
       "\n",
       "[490 rows x 2 columns]"
      ]
     },
     "execution_count": 6,
     "metadata": {},
     "output_type": "execute_result"
    }
   ],
   "source": [
    "data1"
   ]
  },
  {
   "cell_type": "code",
   "execution_count": 7,
   "id": "ca9a5e6a",
   "metadata": {},
   "outputs": [],
   "source": [
    "def firstdiff(df,n =14):        #created a user defined function\n",
    "                                # option to choose no. of moving averge days\n",
    "    change = []\n",
    "    change_up = []\n",
    "    change_down = []\n",
    "    avg_up= []      # empty list                                           \n",
    "    avg_down = []\n",
    "    rs = []\n",
    "    rsi = []\n",
    "    \n",
    "    for i in data1:\n",
    "        change = data1.diff().dropna()    # first order differencing\n",
    "        change_up = change.clip(lower=0) # for values less than 0 return 0\n",
    "        change_down = (-1 * change.clip(upper=0)).abs()# for values greater than 0 return 0\n",
    "        avg_up = change_up.rolling(n).mean()\n",
    "        avg_down = change_down.rolling(n).mean().abs()\n",
    "        rs = avg_up/avg_down   # calculating rs\n",
    "        rsi = 100-(100/(1+rs))  # calculating RSI\n",
    "    return (rsi)\n",
    "a = firstdiff(data1,14)"
   ]
  },
  {
   "cell_type": "markdown",
   "id": "33cfe04d",
   "metadata": {},
   "source": [
    "# functions are for me"
   ]
  },
  {
   "cell_type": "code",
   "execution_count": 8,
   "id": "0501c0c1-b4c3-4e8b-abc7-5d3b55687a0d",
   "metadata": {},
   "outputs": [
    {
     "data": {
      "text/html": [
       "<div>\n",
       "<style scoped>\n",
       "    .dataframe tbody tr th:only-of-type {\n",
       "        vertical-align: middle;\n",
       "    }\n",
       "\n",
       "    .dataframe tbody tr th {\n",
       "        vertical-align: top;\n",
       "    }\n",
       "\n",
       "    .dataframe thead th {\n",
       "        text-align: right;\n",
       "    }\n",
       "</style>\n",
       "<table border=\"1\" class=\"dataframe\">\n",
       "  <thead>\n",
       "    <tr style=\"text-align: right;\">\n",
       "      <th></th>\n",
       "      <th>RELIANCE.NS</th>\n",
       "      <th>TATAMOTORS.NS</th>\n",
       "    </tr>\n",
       "    <tr>\n",
       "      <th>Date</th>\n",
       "      <th></th>\n",
       "      <th></th>\n",
       "    </tr>\n",
       "  </thead>\n",
       "  <tbody>\n",
       "    <tr>\n",
       "      <th>2020-01-16</th>\n",
       "      <td>NaN</td>\n",
       "      <td>NaN</td>\n",
       "    </tr>\n",
       "    <tr>\n",
       "      <th>2020-01-17</th>\n",
       "      <td>NaN</td>\n",
       "      <td>NaN</td>\n",
       "    </tr>\n",
       "    <tr>\n",
       "      <th>2020-01-20</th>\n",
       "      <td>NaN</td>\n",
       "      <td>NaN</td>\n",
       "    </tr>\n",
       "    <tr>\n",
       "      <th>2020-01-21</th>\n",
       "      <td>54.600521</td>\n",
       "      <td>57.202067</td>\n",
       "    </tr>\n",
       "    <tr>\n",
       "      <th>2020-01-22</th>\n",
       "      <td>49.591975</td>\n",
       "      <td>40.893862</td>\n",
       "    </tr>\n",
       "    <tr>\n",
       "      <th>...</th>\n",
       "      <td>...</td>\n",
       "      <td>...</td>\n",
       "    </tr>\n",
       "    <tr>\n",
       "      <th>2021-12-14</th>\n",
       "      <td>52.178856</td>\n",
       "      <td>50.343249</td>\n",
       "    </tr>\n",
       "    <tr>\n",
       "      <th>2021-12-15</th>\n",
       "      <td>38.598494</td>\n",
       "      <td>49.487893</td>\n",
       "    </tr>\n",
       "    <tr>\n",
       "      <th>2021-12-16</th>\n",
       "      <td>49.085153</td>\n",
       "      <td>71.124411</td>\n",
       "    </tr>\n",
       "    <tr>\n",
       "      <th>2021-12-17</th>\n",
       "      <td>40.094105</td>\n",
       "      <td>54.573966</td>\n",
       "    </tr>\n",
       "    <tr>\n",
       "      <th>2021-12-20</th>\n",
       "      <td>38.078405</td>\n",
       "      <td>45.019399</td>\n",
       "    </tr>\n",
       "  </tbody>\n",
       "</table>\n",
       "<p>479 rows × 2 columns</p>\n",
       "</div>"
      ],
      "text/plain": [
       "            RELIANCE.NS  TATAMOTORS.NS\n",
       "Date                                  \n",
       "2020-01-16          NaN            NaN\n",
       "2020-01-17          NaN            NaN\n",
       "2020-01-20          NaN            NaN\n",
       "2020-01-21    54.600521      57.202067\n",
       "2020-01-22    49.591975      40.893862\n",
       "...                 ...            ...\n",
       "2021-12-14    52.178856      50.343249\n",
       "2021-12-15    38.598494      49.487893\n",
       "2021-12-16    49.085153      71.124411\n",
       "2021-12-17    40.094105      54.573966\n",
       "2021-12-20    38.078405      45.019399\n",
       "\n",
       "[479 rows x 2 columns]"
      ]
     },
     "execution_count": 8,
     "metadata": {},
     "output_type": "execute_result"
    }
   ],
   "source": [
    "a[10:]"
   ]
  },
  {
   "cell_type": "code",
   "execution_count": 9,
   "id": "16f607ac",
   "metadata": {},
   "outputs": [],
   "source": [
    "# if data1.loc != int:\n",
    "#     data1 = data1.dropna()"
   ]
  },
  {
   "cell_type": "code",
   "execution_count": 10,
   "id": "98e35ee1",
   "metadata": {},
   "outputs": [],
   "source": [
    "# change_up = data1[\"firstdiff\"].copy()\n",
    "#change_down = data1[\"firstdiff\"].copy()\n"
   ]
  },
  {
   "cell_type": "code",
   "execution_count": 11,
   "id": "f37714f8",
   "metadata": {},
   "outputs": [],
   "source": [
    "# change_up[change_up<0] = 0\n",
    "#change_down[change_down>0] = 0\n",
    "#change_down"
   ]
  },
  {
   "cell_type": "code",
   "execution_count": null,
   "id": "503abb97-5d2f-4ba0-b5d2-b08037076710",
   "metadata": {},
   "outputs": [],
   "source": []
  },
  {
   "cell_type": "code",
   "execution_count": null,
   "id": "ce231e50-8042-4055-9259-1f49895321dc",
   "metadata": {},
   "outputs": [],
   "source": []
  },
  {
   "cell_type": "code",
   "execution_count": null,
   "id": "6dbd4884-e2b5-4c32-b06d-10de7fa7db73",
   "metadata": {},
   "outputs": [],
   "source": []
  }
 ],
 "metadata": {
  "kernelspec": {
   "display_name": "Python 3",
   "language": "python",
   "name": "python3"
  },
  "language_info": {
   "codemirror_mode": {
    "name": "ipython",
    "version": 3
   },
   "file_extension": ".py",
   "mimetype": "text/x-python",
   "name": "python",
   "nbconvert_exporter": "python",
   "pygments_lexer": "ipython3",
   "version": "3.8.8"
  }
 },
 "nbformat": 4,
 "nbformat_minor": 5
}
