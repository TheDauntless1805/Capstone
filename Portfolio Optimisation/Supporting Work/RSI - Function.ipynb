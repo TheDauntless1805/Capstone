{
 "cells": [
  {
   "cell_type": "code",
   "execution_count": 49,
   "id": "58ea0bf1",
   "metadata": {},
   "outputs": [],
   "source": [
    "import numpy as np\n",
    "import pandas as pd\n",
    "import matplotlib.pyplot as plt\n",
    "import pandas as pd\n",
    "import numpy as np\n",
    "import yfinance as yf\n",
    "from datetime import date, timedelta\n",
    "import datetime\n",
    "from sklearn.linear_model import LinearRegression\n",
    "import statsmodels.api as sm"
   ]
  },
  {
   "cell_type": "code",
   "execution_count": 50,
   "id": "1a5fbc5f",
   "metadata": {},
   "outputs": [],
   "source": [
    "# Downloading the Dataset\n",
    "dataset_1 = yf.download('RELIANCE.NS INFY.NS HDFCBANK.NS ICICIBANK.NS HDFC.NS TCS.NS KOTAKBANK.NS LT.NS HINDUNILVR.NS AXISBANK.NS ITC.NS BAJFINANCE.NS SBIN.NS BHARTIARTL.NS ASIANPAINT.NS HCLTECH.NS MARUTI.NS TITAN.NS TATASTEEL.NS BAJAJFINSV.NS', start='2016-01-01', end='2021-12-31', progress=False)"
   ]
  },
  {
   "cell_type": "code",
   "execution_count": 51,
   "id": "d1dd2c4b",
   "metadata": {},
   "outputs": [],
   "source": [
    "# Getting the Closing Price Data\n",
    "dataset_1 = dataset_1['Close']"
   ]
  },
  {
   "cell_type": "code",
   "execution_count": 53,
   "id": "ccac8502",
   "metadata": {},
   "outputs": [],
   "source": [
    "# dataset_1.head()"
   ]
  },
  {
   "cell_type": "code",
   "execution_count": 54,
   "id": "c1301b76",
   "metadata": {},
   "outputs": [],
   "source": [
    "# a_date = datetime.date(2021, 12, 31)\n",
    "# n = 40\n",
    "# days = datetime.timedelta(n)\n",
    "# new_date = a_date - days\n",
    "# new_date = new_date.strftime('%Y-%m-%d')"
   ]
  },
  {
   "cell_type": "code",
   "execution_count": 56,
   "id": "01b0d4b3",
   "metadata": {},
   "outputs": [],
   "source": [
    "# new_date"
   ]
  },
  {
   "cell_type": "code",
   "execution_count": 57,
   "id": "b82f5745",
   "metadata": {},
   "outputs": [],
   "source": [
    "# new_dataset = dataset_1.loc[new_date:,:]"
   ]
  },
  {
   "cell_type": "code",
   "execution_count": 58,
   "id": "876207e7",
   "metadata": {},
   "outputs": [],
   "source": [
    "##Fitting the Linear Regression"
   ]
  },
  {
   "cell_type": "code",
   "execution_count": 64,
   "id": "fc420e14",
   "metadata": {},
   "outputs": [],
   "source": [
    "dataset_2 = dataset_1.copy()\n",
    "dataset_2 = dataset_2.rolling(window = 5).mean().dropna()"
   ]
  },
  {
   "cell_type": "code",
   "execution_count": 78,
   "id": "d289c943-3c1a-4b5f-899f-cf1606a8aaee",
   "metadata": {},
   "outputs": [
    {
     "data": {
      "text/plain": [
       "Date\n",
       "2021-11-03    3122.440039\n",
       "2021-11-04    3131.030029\n",
       "2021-11-08    3138.610010\n",
       "2021-11-09    3143.279980\n",
       "2021-11-10    3144.269971\n",
       "2021-11-11    3122.839990\n",
       "2021-11-12    3115.569971\n",
       "2021-11-15    3121.709961\n",
       "2021-11-16    3123.019971\n",
       "2021-11-17    3147.409961\n",
       "2021-11-18    3180.079980\n",
       "2021-11-22    3207.750000\n",
       "2021-11-23    3211.120020\n",
       "2021-11-24    3212.180029\n",
       "2021-11-25    3194.980029\n",
       "2021-11-26    3178.230029\n",
       "2021-11-29    3154.840039\n",
       "2021-11-30    3146.460010\n",
       "2021-12-01    3142.689990\n",
       "2021-12-02    3149.960010\n",
       "2021-12-03    3143.429980\n",
       "2021-12-06    3122.229980\n",
       "2021-12-07    3099.570020\n",
       "2021-12-08    3093.640039\n",
       "2021-12-09    3093.260010\n",
       "2021-12-10    3127.800000\n",
       "2021-12-13    3176.110010\n",
       "2021-12-14    3229.539990\n",
       "2021-12-15    3268.229980\n",
       "2021-12-16    3292.210010\n",
       "2021-12-17    3284.320020\n",
       "2021-12-20    3276.239990\n",
       "2021-12-21    3271.010010\n",
       "2021-12-22    3266.640039\n",
       "2021-12-23    3260.500000\n",
       "2021-12-24    3268.720020\n",
       "2021-12-27    3275.310010\n",
       "2021-12-28    3294.679980\n",
       "2021-12-29    3312.149951\n",
       "2021-12-30    3331.709961\n",
       "Name: ASIANPAINT.NS, dtype: float64"
      ]
     },
     "execution_count": 78,
     "metadata": {},
     "output_type": "execute_result"
    }
   ],
   "source": [
    "dataset_2['ASIANPAINT.NS'][-40:]"
   ]
  },
  {
   "cell_type": "code",
   "execution_count": 61,
   "id": "17d9001f-4546-4320-8d74-741decbc1aa5",
   "metadata": {},
   "outputs": [],
   "source": [
    "def Linear_Regression(n):\n",
    "    #dataset_1 = dataset_1\n",
    "#     a_date = datetime.date(2021, 12, 31)\n",
    "#     n = 40\n",
    "#     days = datetime.timedelta(n)\n",
    "#     new_date = a_date - days\n",
    "#     new_date = new_date.strftime('%Y-%m-%d')\n",
    "#     new_dataset = dataset_1.loc[new_date:,:]\n",
    "#     y_hat = new_dataset.copy()\n",
    "#     SMA_5 = new_dataset['AXISBANK.NS'].rolling(window = 5).mean() # SMA of last 5 values\n",
    "\n",
    "#    Adding the prediction to the y_hat data frame\n",
    "#     y_hat['SMA_5'] = SMA_5\n",
    "    y_hat = y_hat.iloc[5:]\n",
    "    X = y_hat[['AXISBANK.NS']]\n",
    "    Y = y_hat[['SMA_5']]\n",
    "    regr = LinearRegression()\n",
    "    regr.fit(X, Y)\n",
    "    return regr.coef_"
   ]
  },
  {
   "cell_type": "code",
   "execution_count": 34,
   "id": "56ab01ee",
   "metadata": {},
   "outputs": [],
   "source": [
    "y_hat = new_dataset.copy()"
   ]
  },
  {
   "cell_type": "code",
   "execution_count": 35,
   "id": "555db989",
   "metadata": {},
   "outputs": [],
   "source": [
    "y_hat = y_hat.rolling(window=5).mean().dropna()"
   ]
  },
  {
   "cell_type": "code",
   "execution_count": 14,
   "id": "a6b7dc24",
   "metadata": {},
   "outputs": [
    {
     "data": {
      "text/html": [
       "<div>\n",
       "<style scoped>\n",
       "    .dataframe tbody tr th:only-of-type {\n",
       "        vertical-align: middle;\n",
       "    }\n",
       "\n",
       "    .dataframe tbody tr th {\n",
       "        vertical-align: top;\n",
       "    }\n",
       "\n",
       "    .dataframe thead th {\n",
       "        text-align: right;\n",
       "    }\n",
       "</style>\n",
       "<table border=\"1\" class=\"dataframe\">\n",
       "  <thead>\n",
       "    <tr style=\"text-align: right;\">\n",
       "      <th></th>\n",
       "      <th>SMA_5</th>\n",
       "    </tr>\n",
       "    <tr>\n",
       "      <th>Date</th>\n",
       "      <th></th>\n",
       "    </tr>\n",
       "  </thead>\n",
       "  <tbody>\n",
       "    <tr>\n",
       "      <th>2021-11-29</th>\n",
       "      <td>672.710010</td>\n",
       "    </tr>\n",
       "    <tr>\n",
       "      <th>2021-11-30</th>\n",
       "      <td>666.710010</td>\n",
       "    </tr>\n",
       "    <tr>\n",
       "      <th>2021-12-01</th>\n",
       "      <td>665.600000</td>\n",
       "    </tr>\n",
       "    <tr>\n",
       "      <th>2021-12-02</th>\n",
       "      <td>664.839990</td>\n",
       "    </tr>\n",
       "    <tr>\n",
       "      <th>2021-12-03</th>\n",
       "      <td>667.089990</td>\n",
       "    </tr>\n",
       "    <tr>\n",
       "      <th>2021-12-06</th>\n",
       "      <td>669.489990</td>\n",
       "    </tr>\n",
       "    <tr>\n",
       "      <th>2021-12-07</th>\n",
       "      <td>675.759985</td>\n",
       "    </tr>\n",
       "    <tr>\n",
       "      <th>2021-12-08</th>\n",
       "      <td>679.259985</td>\n",
       "    </tr>\n",
       "    <tr>\n",
       "      <th>2021-12-09</th>\n",
       "      <td>682.829993</td>\n",
       "    </tr>\n",
       "    <tr>\n",
       "      <th>2021-12-10</th>\n",
       "      <td>685.839990</td>\n",
       "    </tr>\n",
       "    <tr>\n",
       "      <th>2021-12-13</th>\n",
       "      <td>694.019995</td>\n",
       "    </tr>\n",
       "    <tr>\n",
       "      <th>2021-12-14</th>\n",
       "      <td>698.800000</td>\n",
       "    </tr>\n",
       "    <tr>\n",
       "      <th>2021-12-15</th>\n",
       "      <td>701.880005</td>\n",
       "    </tr>\n",
       "    <tr>\n",
       "      <th>2021-12-16</th>\n",
       "      <td>705.020007</td>\n",
       "    </tr>\n",
       "    <tr>\n",
       "      <th>2021-12-17</th>\n",
       "      <td>705.190015</td>\n",
       "    </tr>\n",
       "    <tr>\n",
       "      <th>2021-12-20</th>\n",
       "      <td>699.260010</td>\n",
       "    </tr>\n",
       "    <tr>\n",
       "      <th>2021-12-21</th>\n",
       "      <td>690.250000</td>\n",
       "    </tr>\n",
       "    <tr>\n",
       "      <th>2021-12-22</th>\n",
       "      <td>681.619995</td>\n",
       "    </tr>\n",
       "    <tr>\n",
       "      <th>2021-12-23</th>\n",
       "      <td>675.449988</td>\n",
       "    </tr>\n",
       "    <tr>\n",
       "      <th>2021-12-24</th>\n",
       "      <td>671.169983</td>\n",
       "    </tr>\n",
       "    <tr>\n",
       "      <th>2021-12-27</th>\n",
       "      <td>670.729993</td>\n",
       "    </tr>\n",
       "    <tr>\n",
       "      <th>2021-12-28</th>\n",
       "      <td>672.650000</td>\n",
       "    </tr>\n",
       "    <tr>\n",
       "      <th>2021-12-29</th>\n",
       "      <td>672.880005</td>\n",
       "    </tr>\n",
       "    <tr>\n",
       "      <th>2021-12-30</th>\n",
       "      <td>670.890002</td>\n",
       "    </tr>\n",
       "  </tbody>\n",
       "</table>\n",
       "</div>"
      ],
      "text/plain": [
       "                 SMA_5\n",
       "Date                  \n",
       "2021-11-29  672.710010\n",
       "2021-11-30  666.710010\n",
       "2021-12-01  665.600000\n",
       "2021-12-02  664.839990\n",
       "2021-12-03  667.089990\n",
       "2021-12-06  669.489990\n",
       "2021-12-07  675.759985\n",
       "2021-12-08  679.259985\n",
       "2021-12-09  682.829993\n",
       "2021-12-10  685.839990\n",
       "2021-12-13  694.019995\n",
       "2021-12-14  698.800000\n",
       "2021-12-15  701.880005\n",
       "2021-12-16  705.020007\n",
       "2021-12-17  705.190015\n",
       "2021-12-20  699.260010\n",
       "2021-12-21  690.250000\n",
       "2021-12-22  681.619995\n",
       "2021-12-23  675.449988\n",
       "2021-12-24  671.169983\n",
       "2021-12-27  670.729993\n",
       "2021-12-28  672.650000\n",
       "2021-12-29  672.880005\n",
       "2021-12-30  670.890002"
      ]
     },
     "execution_count": 14,
     "metadata": {},
     "output_type": "execute_result"
    }
   ],
   "source": []
  },
  {
   "cell_type": "code",
   "execution_count": null,
   "id": "dd3e44aa-c66a-444f-83bc-86ef25dd3974",
   "metadata": {},
   "outputs": [],
   "source": []
  },
  {
   "cell_type": "code",
   "execution_count": 12,
   "id": "7c485729",
   "metadata": {},
   "outputs": [],
   "source": [
    "SMA_5 = new_dataset['AXISBANK.NS'].rolling(window = 5).mean() # SMA of last 5 values\n",
    "\n",
    "# Adding the prediction to the y_hat data frame\n",
    "y_hat['SMA_5'] = SMA_5\n",
    "y_hat = y_hat.iloc[5:]"
   ]
  },
  {
   "cell_type": "code",
   "execution_count": 13,
   "id": "aad3ab3f",
   "metadata": {},
   "outputs": [],
   "source": [
    "X = y_hat[['AXISBANK.NS']]\n",
    "Y = y_hat[['SMA_5']]"
   ]
  },
  {
   "cell_type": "code",
   "execution_count": 15,
   "id": "89449a6c",
   "metadata": {},
   "outputs": [],
   "source": [
    "regr = LinearRegression()"
   ]
  },
  {
   "cell_type": "code",
   "execution_count": 16,
   "id": "75ec3ad8",
   "metadata": {},
   "outputs": [
    {
     "data": {
      "text/plain": [
       "LinearRegression()"
      ]
     },
     "execution_count": 16,
     "metadata": {},
     "output_type": "execute_result"
    }
   ],
   "source": [
    "regr.fit(X, Y)"
   ]
  },
  {
   "cell_type": "code",
   "execution_count": 22,
   "id": "4474c70b",
   "metadata": {},
   "outputs": [
    {
     "data": {
      "text/plain": [
       "array([[0.53816868]])"
      ]
     },
     "execution_count": 22,
     "metadata": {},
     "output_type": "execute_result"
    }
   ],
   "source": [
    "regr.coef_"
   ]
  },
  {
   "cell_type": "code",
   "execution_count": 156,
   "id": "bc2005b5",
   "metadata": {},
   "outputs": [],
   "source": [
    "dataset_1 = yf.download('RELIANCE.NS INFY.NS HDFCBANK.NS ICICIBANK.NS HDFC.NS TCS.NS KOTAKBANK.NS LT.NS HINDUNILVR.NS AXISBANK.NS ITC.NS BAJFINANCE.NS SBIN.NS BHARTIARTL.NS ASIANPAINT.NS HCLTECH.NS MARUTI.NS TITAN.NS TATASTEEL.NS BAJAJFINSV.NS', start='2016-01-01', end='2021-12-31', progress=False)"
   ]
  },
  {
   "cell_type": "code",
   "execution_count": 157,
   "id": "cc3d97f2",
   "metadata": {},
   "outputs": [],
   "source": [
    "dataset_1 = dataset_1['Close']"
   ]
  },
  {
   "cell_type": "code",
   "execution_count": 23,
   "id": "76a978ab",
   "metadata": {},
   "outputs": [],
   "source": []
  },
  {
   "cell_type": "code",
   "execution_count": 45,
   "id": "d9bdb213-caaf-4e07-9387-87630c09b723",
   "metadata": {},
   "outputs": [
    {
     "data": {
      "text/plain": [
       "(25,)"
      ]
     },
     "execution_count": 45,
     "metadata": {},
     "output_type": "execute_result"
    }
   ],
   "source": [
    "y_hat['ASIANPAINT.NS'].shape"
   ]
  },
  {
   "cell_type": "code",
   "execution_count": 24,
   "id": "14ead159",
   "metadata": {},
   "outputs": [
    {
     "data": {
      "text/plain": [
       "array([[0.53816868]])"
      ]
     },
     "execution_count": 24,
     "metadata": {},
     "output_type": "execute_result"
    }
   ],
   "source": [
    "Linear_Regression(40)"
   ]
  },
  {
   "cell_type": "code",
   "execution_count": 25,
   "id": "1e56227c",
   "metadata": {},
   "outputs": [],
   "source": [
    "def Linear_Regression(n):\n",
    "    #dataset_1 = dataset_1\n",
    "    a_date = datetime.date(2021, 12, 31)\n",
    "    n = 40\n",
    "    days = datetime.timedelta(n)\n",
    "    new_date = a_date - days\n",
    "    new_date = new_date.strftime('%Y-%m-%d')\n",
    "    new_dataset = dataset_1.loc[new_date:,:]\n",
    "    y_hat = new_dataset.copy()\n",
    "    for i in y_hat.columns:\n",
    "        SMA_5[i] = new_dataset[i].rolling(window = 5).mean() # SMA of last 5 values"
   ]
  },
  {
   "cell_type": "code",
   "execution_count": null,
   "id": "c528cfb2",
   "metadata": {},
   "outputs": [],
   "source": []
  },
  {
   "cell_type": "code",
   "execution_count": null,
   "id": "74a06fb6",
   "metadata": {},
   "outputs": [],
   "source": []
  }
 ],
 "metadata": {
  "kernelspec": {
   "display_name": "Python 3",
   "language": "python",
   "name": "python3"
  },
  "language_info": {
   "codemirror_mode": {
    "name": "ipython",
    "version": 3
   },
   "file_extension": ".py",
   "mimetype": "text/x-python",
   "name": "python",
   "nbconvert_exporter": "python",
   "pygments_lexer": "ipython3",
   "version": "3.8.8"
  }
 },
 "nbformat": 4,
 "nbformat_minor": 5
}
