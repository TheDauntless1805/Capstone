{
 "cells": [
  {
   "cell_type": "code",
   "execution_count": null,
   "id": "f0047cba",
   "metadata": {},
   "outputs": [],
   "source": [
    "## Function to find precision matrix given the covariance matrix and value of alpha"
   ]
  },
  {
   "cell_type": "code",
   "execution_count": null,
   "id": "5374c520",
   "metadata": {},
   "outputs": [],
   "source": [
    "from sklearn.covariance import GraphicalLasso"
   ]
  },
  {
   "cell_type": "code",
   "execution_count": null,
   "id": "9bb5b66c",
   "metadata": {},
   "outputs": [],
   "source": [
    "def gglaso(covariance_matrix,alphas = None):\n",
    "    \n",
    "    ##Calling Glasso algorithm\n",
    "    model = covariance.GraphicalLasso(alpha = alphas)\n",
    "    covariance_matrix /= covariance_matrix.std(axis=0)\n",
    "    model.fit(covariance_matrix)\n",
    "    \n",
    "    ##the precision(inverse covariance) matrix that we want\n",
    "    return model.precision_"
   ]
  }
 ],
 "metadata": {
  "kernelspec": {
   "display_name": "Python 3",
   "language": "python",
   "name": "python3"
  },
  "language_info": {
   "codemirror_mode": {
    "name": "ipython",
    "version": 3
   },
   "file_extension": ".py",
   "mimetype": "text/x-python",
   "name": "python",
   "nbconvert_exporter": "python",
   "pygments_lexer": "ipython3",
   "version": "3.8.8"
  }
 },
 "nbformat": 4,
 "nbformat_minor": 5
}
