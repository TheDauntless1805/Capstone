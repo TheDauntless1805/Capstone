{
 "cells": [
  {
   "cell_type": "code",
   "execution_count": 1,
   "id": "63e3229f",
   "metadata": {},
   "outputs": [],
   "source": [
    "import os\n",
    "import pandas as pd\n",
    "import datetime as dt"
   ]
  },
  {
   "cell_type": "code",
   "execution_count": 2,
   "id": "cd758c8c",
   "metadata": {},
   "outputs": [],
   "source": [
    "returns = pd.read_csv(\"data1_returns.csv\",index_col=0)"
   ]
  },
  {
   "cell_type": "code",
   "execution_count": 3,
   "id": "53e9675f",
   "metadata": {},
   "outputs": [
    {
     "data": {
      "text/html": [
       "<div>\n",
       "<style scoped>\n",
       "    .dataframe tbody tr th:only-of-type {\n",
       "        vertical-align: middle;\n",
       "    }\n",
       "\n",
       "    .dataframe tbody tr th {\n",
       "        vertical-align: top;\n",
       "    }\n",
       "\n",
       "    .dataframe thead th {\n",
       "        text-align: right;\n",
       "    }\n",
       "</style>\n",
       "<table border=\"1\" class=\"dataframe\">\n",
       "  <thead>\n",
       "    <tr style=\"text-align: right;\">\n",
       "      <th></th>\n",
       "      <th>Ambuja Cement Ltd.</th>\n",
       "      <th>Asian Paints</th>\n",
       "      <th>Can Fin Homes Ltd</th>\n",
       "      <th>Century Plyboards(India) Ltd.</th>\n",
       "      <th>Crompton Greaves Consumer Electricals Ltd.</th>\n",
       "      <th>Housing Development Finance Corporation Ltd.</th>\n",
       "      <th>Heidelbergcement India Ltd</th>\n",
       "      <th>JK Cement Ltd</th>\n",
       "      <th>Kajaria Ceramics Ltd.</th>\n",
       "      <th>Orient Electric Ltd.</th>\n",
       "      <th>Polycab India Ltd</th>\n",
       "      <th>Prince Pipes and Fittings Ltd.</th>\n",
       "      <th>Supreme Industries Ltd.</th>\n",
       "      <th>Unnamed: 14</th>\n",
       "    </tr>\n",
       "    <tr>\n",
       "      <th>Date</th>\n",
       "      <th></th>\n",
       "      <th></th>\n",
       "      <th></th>\n",
       "      <th></th>\n",
       "      <th></th>\n",
       "      <th></th>\n",
       "      <th></th>\n",
       "      <th></th>\n",
       "      <th></th>\n",
       "      <th></th>\n",
       "      <th></th>\n",
       "      <th></th>\n",
       "      <th></th>\n",
       "      <th></th>\n",
       "    </tr>\n",
       "  </thead>\n",
       "  <tbody>\n",
       "    <tr>\n",
       "      <th>12/31/2019</th>\n",
       "      <td>0.003067</td>\n",
       "      <td>-0.009627</td>\n",
       "      <td>-0.006948</td>\n",
       "      <td>-0.008030</td>\n",
       "      <td>-0.007038</td>\n",
       "      <td>-0.010540</td>\n",
       "      <td>-0.002566</td>\n",
       "      <td>0.007195</td>\n",
       "      <td>0.019707</td>\n",
       "      <td>-0.020318</td>\n",
       "      <td>0.002526</td>\n",
       "      <td>-0.086579</td>\n",
       "      <td>0.010869</td>\n",
       "      <td>NaN</td>\n",
       "    </tr>\n",
       "    <tr>\n",
       "      <th>1/1/2020</th>\n",
       "      <td>0.003822</td>\n",
       "      <td>0.004622</td>\n",
       "      <td>0.005852</td>\n",
       "      <td>0.030511</td>\n",
       "      <td>0.011049</td>\n",
       "      <td>0.008870</td>\n",
       "      <td>0.000000</td>\n",
       "      <td>0.006545</td>\n",
       "      <td>0.000666</td>\n",
       "      <td>0.015155</td>\n",
       "      <td>0.001663</td>\n",
       "      <td>0.022302</td>\n",
       "      <td>-0.011576</td>\n",
       "      <td>NaN</td>\n",
       "    </tr>\n",
       "    <tr>\n",
       "      <th>1/2/2020</th>\n",
       "      <td>0.042386</td>\n",
       "      <td>-0.001422</td>\n",
       "      <td>0.012521</td>\n",
       "      <td>0.009063</td>\n",
       "      <td>-0.008041</td>\n",
       "      <td>0.013332</td>\n",
       "      <td>0.041726</td>\n",
       "      <td>0.037144</td>\n",
       "      <td>0.014176</td>\n",
       "      <td>0.004715</td>\n",
       "      <td>-0.016953</td>\n",
       "      <td>-0.000963</td>\n",
       "      <td>0.002500</td>\n",
       "      <td>NaN</td>\n",
       "    </tr>\n",
       "    <tr>\n",
       "      <th>1/3/2020</th>\n",
       "      <td>-0.009496</td>\n",
       "      <td>-0.021919</td>\n",
       "      <td>-0.012616</td>\n",
       "      <td>0.002096</td>\n",
       "      <td>0.000416</td>\n",
       "      <td>-0.004845</td>\n",
       "      <td>0.007682</td>\n",
       "      <td>0.049049</td>\n",
       "      <td>0.007129</td>\n",
       "      <td>-0.004432</td>\n",
       "      <td>0.005322</td>\n",
       "      <td>-0.024406</td>\n",
       "      <td>0.007482</td>\n",
       "      <td>NaN</td>\n",
       "    </tr>\n",
       "    <tr>\n",
       "      <th>1/6/2020</th>\n",
       "      <td>-0.031957</td>\n",
       "      <td>-0.025266</td>\n",
       "      <td>-0.029981</td>\n",
       "      <td>-0.011951</td>\n",
       "      <td>-0.011220</td>\n",
       "      <td>-0.028662</td>\n",
       "      <td>-0.023959</td>\n",
       "      <td>-0.017656</td>\n",
       "      <td>-0.020026</td>\n",
       "      <td>0.012569</td>\n",
       "      <td>-0.022041</td>\n",
       "      <td>-0.011192</td>\n",
       "      <td>-0.012203</td>\n",
       "      <td>NaN</td>\n",
       "    </tr>\n",
       "  </tbody>\n",
       "</table>\n",
       "</div>"
      ],
      "text/plain": [
       "            Ambuja Cement Ltd.  Asian Paints  Can Fin Homes Ltd  \\\n",
       "Date                                                              \n",
       "12/31/2019            0.003067     -0.009627          -0.006948   \n",
       "1/1/2020              0.003822      0.004622           0.005852   \n",
       "1/2/2020              0.042386     -0.001422           0.012521   \n",
       "1/3/2020             -0.009496     -0.021919          -0.012616   \n",
       "1/6/2020             -0.031957     -0.025266          -0.029981   \n",
       "\n",
       "            Century Plyboards(India) Ltd.  \\\n",
       "Date                                        \n",
       "12/31/2019                      -0.008030   \n",
       "1/1/2020                         0.030511   \n",
       "1/2/2020                         0.009063   \n",
       "1/3/2020                         0.002096   \n",
       "1/6/2020                        -0.011951   \n",
       "\n",
       "            Crompton Greaves Consumer Electricals Ltd.  \\\n",
       "Date                                                     \n",
       "12/31/2019                                   -0.007038   \n",
       "1/1/2020                                      0.011049   \n",
       "1/2/2020                                     -0.008041   \n",
       "1/3/2020                                      0.000416   \n",
       "1/6/2020                                     -0.011220   \n",
       "\n",
       "            Housing Development Finance Corporation Ltd.  \\\n",
       "Date                                                       \n",
       "12/31/2019                                     -0.010540   \n",
       "1/1/2020                                        0.008870   \n",
       "1/2/2020                                        0.013332   \n",
       "1/3/2020                                       -0.004845   \n",
       "1/6/2020                                       -0.028662   \n",
       "\n",
       "            Heidelbergcement India Ltd  JK Cement Ltd  Kajaria Ceramics Ltd.  \\\n",
       "Date                                                                           \n",
       "12/31/2019                   -0.002566       0.007195               0.019707   \n",
       "1/1/2020                      0.000000       0.006545               0.000666   \n",
       "1/2/2020                      0.041726       0.037144               0.014176   \n",
       "1/3/2020                      0.007682       0.049049               0.007129   \n",
       "1/6/2020                     -0.023959      -0.017656              -0.020026   \n",
       "\n",
       "            Orient Electric Ltd.  Polycab India Ltd  \\\n",
       "Date                                                  \n",
       "12/31/2019             -0.020318           0.002526   \n",
       "1/1/2020                0.015155           0.001663   \n",
       "1/2/2020                0.004715          -0.016953   \n",
       "1/3/2020               -0.004432           0.005322   \n",
       "1/6/2020                0.012569          -0.022041   \n",
       "\n",
       "            Prince Pipes and Fittings Ltd.  Supreme Industries Ltd.  \\\n",
       "Date                                                                  \n",
       "12/31/2019                       -0.086579                 0.010869   \n",
       "1/1/2020                          0.022302                -0.011576   \n",
       "1/2/2020                         -0.000963                 0.002500   \n",
       "1/3/2020                         -0.024406                 0.007482   \n",
       "1/6/2020                         -0.011192                -0.012203   \n",
       "\n",
       "            Unnamed: 14  \n",
       "Date                     \n",
       "12/31/2019          NaN  \n",
       "1/1/2020            NaN  \n",
       "1/2/2020            NaN  \n",
       "1/3/2020            NaN  \n",
       "1/6/2020            NaN  "
      ]
     },
     "execution_count": 3,
     "metadata": {},
     "output_type": "execute_result"
    }
   ],
   "source": [
    "returns.head()"
   ]
  },
  {
   "cell_type": "code",
   "execution_count": 4,
   "id": "10c03a87",
   "metadata": {},
   "outputs": [
    {
     "name": "stdout",
     "output_type": "stream",
     "text": [
      "<class 'pandas.core.frame.DataFrame'>\n",
      "Index: 312 entries, 12/31/2019 to 3/30/2021\n",
      "Data columns (total 14 columns):\n",
      " #   Column                                        Non-Null Count  Dtype  \n",
      "---  ------                                        --------------  -----  \n",
      " 0   Ambuja Cement Ltd.                            312 non-null    float64\n",
      " 1   Asian Paints                                  312 non-null    float64\n",
      " 2   Can Fin Homes Ltd                             312 non-null    float64\n",
      " 3   Century Plyboards(India) Ltd.                 312 non-null    float64\n",
      " 4   Crompton Greaves Consumer Electricals Ltd.    312 non-null    float64\n",
      " 5   Housing Development Finance Corporation Ltd.  312 non-null    float64\n",
      " 6   Heidelbergcement India Ltd                    312 non-null    float64\n",
      " 7   JK Cement Ltd                                 312 non-null    float64\n",
      " 8   Kajaria Ceramics Ltd.                         312 non-null    float64\n",
      " 9   Orient Electric Ltd.                          312 non-null    float64\n",
      " 10  Polycab India Ltd                             312 non-null    float64\n",
      " 11  Prince Pipes and Fittings Ltd.                312 non-null    float64\n",
      " 12  Supreme Industries Ltd.                       312 non-null    float64\n",
      " 13  Unnamed: 14                                   0 non-null      float64\n",
      "dtypes: float64(14)\n",
      "memory usage: 36.6+ KB\n"
     ]
    }
   ],
   "source": [
    "returns.info()"
   ]
  },
  {
   "cell_type": "code",
   "execution_count": 5,
   "id": "4ca92325",
   "metadata": {},
   "outputs": [
    {
     "data": {
      "text/plain": [
       "Ambuja Cement Ltd.                                0\n",
       "Asian Paints                                      0\n",
       "Can Fin Homes Ltd                                 0\n",
       "Century Plyboards(India) Ltd.                     0\n",
       "Crompton Greaves Consumer Electricals Ltd.        0\n",
       "Housing Development Finance Corporation Ltd.      0\n",
       "Heidelbergcement India Ltd                        0\n",
       "JK Cement Ltd                                     0\n",
       "Kajaria Ceramics Ltd.                             0\n",
       "Orient Electric Ltd.                              0\n",
       "Polycab India Ltd                                 0\n",
       "Prince Pipes and Fittings Ltd.                    0\n",
       "Supreme Industries Ltd.                           0\n",
       "Unnamed: 14                                     312\n",
       "dtype: int64"
      ]
     },
     "execution_count": 5,
     "metadata": {},
     "output_type": "execute_result"
    }
   ],
   "source": [
    "returns.isnull().sum()"
   ]
  },
  {
   "cell_type": "code",
   "execution_count": 6,
   "id": "6e08cc69",
   "metadata": {},
   "outputs": [],
   "source": [
    "# returns.drop(columns = [[\"Unnamed: 14\"]])\n",
    "returns.drop('Unnamed: 14', inplace=True, axis=1)"
   ]
  },
  {
   "cell_type": "code",
   "execution_count": 7,
   "id": "f839b29a",
   "metadata": {},
   "outputs": [
    {
     "data": {
      "text/plain": [
       "Index(['Ambuja Cement Ltd.', 'Asian Paints', 'Can Fin Homes Ltd',\n",
       "       'Century Plyboards(India) Ltd.',\n",
       "       'Crompton Greaves Consumer Electricals Ltd.',\n",
       "       'Housing Development Finance Corporation Ltd.',\n",
       "       'Heidelbergcement India Ltd', 'JK Cement Ltd', 'Kajaria Ceramics Ltd.',\n",
       "       'Orient Electric Ltd.', 'Polycab India Ltd',\n",
       "       'Prince Pipes and Fittings Ltd.', 'Supreme Industries Ltd.'],\n",
       "      dtype='object')"
      ]
     },
     "execution_count": 7,
     "metadata": {},
     "output_type": "execute_result"
    }
   ],
   "source": [
    "returns.columns"
   ]
  },
  {
   "cell_type": "markdown",
   "id": "60089fce",
   "metadata": {},
   "source": [
    "- Now, we’re going to take the finance equivalent of a training set and test set. They typically test their algorithms “in sample” and “out of sample”."
   ]
  },
  {
   "cell_type": "code",
   "execution_count": 8,
   "id": "80873e9f",
   "metadata": {},
   "outputs": [],
   "source": [
    "training_period = 70\n",
    "in_sample = returns.iloc[:(returns.shape[0]-training_period), :].copy()\n",
    "    "
   ]
  },
  {
   "cell_type": "code",
   "execution_count": 9,
   "id": "3bae4384",
   "metadata": {},
   "outputs": [],
   "source": [
    "## Save the tickers\n",
    "tickers = returns.columns.copy()"
   ]
  },
  {
   "cell_type": "markdown",
   "id": "9c9c5559",
   "metadata": {},
   "source": [
    "### The Eigenvalues of the Covariance Matrix\n",
    "A portfolio using the next eigenvector."
   ]
  },
  {
   "cell_type": "code",
   "execution_count": 10,
   "id": "511c73e4",
   "metadata": {},
   "outputs": [],
   "source": [
    "# import numpy as np\n",
    "    \n",
    "# covariance_matrix = in_sample.cov().values\n",
    "# inv_cov_mat = np.linalg.pinv(covariance_matrix) # Use pseudo-inverse incase matrix is singular / ill-conditioned\n",
    "    \n",
    "# # Construct minimum variance weights\n",
    "# ones = np.ones(len(inv_cov_mat))\n",
    "# inv_dot_ones = np.dot(inv_cov_mat, ones)\n",
    "# min_var_weights = inv_dot_ones/ np.dot( inv_dot_ones , ones)\n",
    "    \n",
    "# min_var_portfolio = pd.DataFrame(data= min_var_weights, columns = ['Investment Weight'], index = tickers)\n",
    "# min_var_portfolio"
   ]
  },
  {
   "cell_type": "code",
   "execution_count": 11,
   "id": "80896d40",
   "metadata": {},
   "outputs": [],
   "source": [
    "# # Largest eigenvalue eigenportfolio\n",
    "# D, S = np.linalg.eigh(covariance_matrix)\n"
   ]
  },
  {
   "cell_type": "code",
   "execution_count": 12,
   "id": "f9c37c3b-aa76-4b6f-ae90-c52b9ea6697e",
   "metadata": {},
   "outputs": [],
   "source": [
    "# D"
   ]
  },
  {
   "cell_type": "code",
   "execution_count": 13,
   "id": "058423a6",
   "metadata": {},
   "outputs": [
    {
     "data": {
      "text/plain": [
       "Text(0.5, 1.0, '2nd E.V. Eigenportfolio')"
      ]
     },
     "execution_count": 13,
     "metadata": {},
     "output_type": "execute_result"
    },
    {
     "data": {
      "image/png": "[encoded data removed]",
      "text/plain": [
       "<Figure size 432x288 with 2 Axes>"
      ]
     },
     "metadata": {
      "needs_background": "light"
     },
     "output_type": "display_data"
    }
   ],
   "source": [
    "import numpy as np\n",
    "\n",
    "covariance_matrix = returns.cov()\n",
    "\n",
    "D, S = np.linalg.eigh(covariance_matrix)\n",
    "\n",
    "eigenportfolio_1 = S[:,-1] / np.sum(S[:,-1]) # Normalize to sum to 1\n",
    "\n",
    "eigenportfolio_2 = S[:,-2] / np.sum(S[:,-2]) # Normalize to sum to 1\n",
    "\n",
    "\n",
    "# Setup Portfolios\n",
    "eigenportfolio = pd.DataFrame(data= eigenportfolio_1, columns = ['Investment Weight'], index = tickers)\n",
    "eigenportfolio2 = pd.DataFrame(data= eigenportfolio_2, columns = ['Investment Weight'], index = tickers)\n",
    "\n",
    "# Plot\n",
    "%matplotlib inline\n",
    "import matplotlib.pyplot as plt\n",
    "f = plt.figure()\n",
    "\n",
    "ax = plt.subplot(121)\n",
    "eigenportfolio.plot(kind='bar', ax=ax, legend=False)\n",
    "plt.title(\"Max E.V. Eigenportfolio\")\n",
    "ax = plt.subplot(122)\n",
    "eigenportfolio2.plot(kind='bar', ax=ax, legend=False)\n",
    "plt.title(\"2nd E.V. Eigenportfolio\")"
   ]
  },
  {
   "cell_type": "code",
   "execution_count": 14,
   "id": "ee930e39-153f-4486-af2f-0498efc9d99b",
   "metadata": {},
   "outputs": [
    {
     "data": {
      "text/plain": [
       "array([0.0622197 , 0.05420857, 0.0919404 , 0.08249967, 0.06046817,\n",
       "       0.09537965, 0.08295196, 0.05836322, 0.07508402, 0.08365139,\n",
       "       0.0914902 , 0.10076823, 0.06097484])"
      ]
     },
     "execution_count": 14,
     "metadata": {},
     "output_type": "execute_result"
    }
   ],
   "source": [
    "p1 = S[:,-1] / np.sum(S[:,-1])\n",
    "p1"
   ]
  },
  {
   "cell_type": "code",
   "execution_count": 15,
   "id": "399ca167-e82b-484e-9ed9-c6e4bc06b994",
   "metadata": {},
   "outputs": [],
   "source": [
    "p2 = S[:,-2] / np.sum(S[:,-2])"
   ]
  },
  {
   "cell_type": "code",
   "execution_count": 16,
   "id": "45f62c9b-f093-4251-b9d4-7f4712fdf16e",
   "metadata": {},
   "outputs": [],
   "source": [
    "mu = returns.mean()"
   ]
  },
  {
   "cell_type": "code",
   "execution_count": 17,
   "id": "02753739-3fc3-402a-8504-8c5b2c19cdc3",
   "metadata": {},
   "outputs": [
    {
     "data": {
      "text/plain": [
       "-0.8671985150944767"
      ]
     },
     "execution_count": 17,
     "metadata": {},
     "output_type": "execute_result"
    }
   ],
   "source": [
    "np.dot(mu*252,p2)"
   ]
  },
  {
   "cell_type": "code",
   "execution_count": 18,
   "id": "6d2a1e3a-b25f-42cc-a1e4-00559978fbd3",
   "metadata": {},
   "outputs": [
    {
     "data": {
      "text/plain": [
       "0.4970396388869545"
      ]
     },
     "execution_count": 18,
     "metadata": {},
     "output_type": "execute_result"
    }
   ],
   "source": [
    "np.dot(mu*252,p1)"
   ]
  },
  {
   "cell_type": "code",
   "execution_count": 19,
   "id": "3f16fc51-2153-4f32-8041-d61f0de877f4",
   "metadata": {},
   "outputs": [
    {
     "data": {
      "text/plain": [
       "array([0.0622197 , 0.05420857, 0.0919404 , 0.08249967, 0.06046817,\n",
       "       0.09537965, 0.08295196, 0.05836322, 0.07508402, 0.08365139,\n",
       "       0.0914902 , 0.10076823, 0.06097484])"
      ]
     },
     "execution_count": 19,
     "metadata": {},
     "output_type": "execute_result"
    }
   ],
   "source": [
    "eigenportfolio_1"
   ]
  },
  {
   "cell_type": "code",
   "execution_count": 20,
   "id": "594be330",
   "metadata": {},
   "outputs": [
    {
     "data": {
      "text/plain": [
       "array([0.21999657, 0.19167079, 0.32508309, 0.29170252, 0.2138035 ,\n",
       "       0.33724359, 0.29330173, 0.20636081, 0.26548225, 0.29577477,\n",
       "       0.32349129, 0.35629654, 0.21559497])"
      ]
     },
     "execution_count": 20,
     "metadata": {},
     "output_type": "execute_result"
    }
   ],
   "source": [
    "S[:,-1]"
   ]
  },
  {
   "cell_type": "code",
   "execution_count": 21,
   "id": "c5a6f877-1c08-49f4-b988-28e72f935a0e",
   "metadata": {},
   "outputs": [],
   "source": [
    "ep2 = eigenportfolio2.loc[eigenportfolio2['Investment Weight']>0]\n",
    "ep3 = ep2/ep2['Investment Weight'].sum()"
   ]
  },
  {
   "cell_type": "code",
   "execution_count": 22,
   "id": "17e9f984",
   "metadata": {},
   "outputs": [
    {
     "data": {
      "text/html": [
       "<div>\n",
       "<style scoped>\n",
       "    .dataframe tbody tr th:only-of-type {\n",
       "        vertical-align: middle;\n",
       "    }\n",
       "\n",
       "    .dataframe tbody tr th {\n",
       "        vertical-align: top;\n",
       "    }\n",
       "\n",
       "    .dataframe thead th {\n",
       "        text-align: right;\n",
       "    }\n",
       "</style>\n",
       "<table border=\"1\" class=\"dataframe\">\n",
       "  <thead>\n",
       "    <tr style=\"text-align: right;\">\n",
       "      <th></th>\n",
       "      <th>Investment Weight</th>\n",
       "    </tr>\n",
       "  </thead>\n",
       "  <tbody>\n",
       "    <tr>\n",
       "      <th>Ambuja Cement Ltd.</th>\n",
       "      <td>0.085354</td>\n",
       "    </tr>\n",
       "    <tr>\n",
       "      <th>Asian Paints</th>\n",
       "      <td>0.041868</td>\n",
       "    </tr>\n",
       "    <tr>\n",
       "      <th>Can Fin Homes Ltd</th>\n",
       "      <td>0.139596</td>\n",
       "    </tr>\n",
       "    <tr>\n",
       "      <th>Crompton Greaves Consumer Electricals Ltd.</th>\n",
       "      <td>0.046098</td>\n",
       "    </tr>\n",
       "    <tr>\n",
       "      <th>Housing Development Finance Corporation Ltd.</th>\n",
       "      <td>0.141811</td>\n",
       "    </tr>\n",
       "    <tr>\n",
       "      <th>Heidelbergcement India Ltd</th>\n",
       "      <td>0.036211</td>\n",
       "    </tr>\n",
       "    <tr>\n",
       "      <th>JK Cement Ltd</th>\n",
       "      <td>0.180214</td>\n",
       "    </tr>\n",
       "    <tr>\n",
       "      <th>Kajaria Ceramics Ltd.</th>\n",
       "      <td>0.045201</td>\n",
       "    </tr>\n",
       "    <tr>\n",
       "      <th>Orient Electric Ltd.</th>\n",
       "      <td>0.139265</td>\n",
       "    </tr>\n",
       "    <tr>\n",
       "      <th>Polycab India Ltd</th>\n",
       "      <td>0.074396</td>\n",
       "    </tr>\n",
       "    <tr>\n",
       "      <th>Supreme Industries Ltd.</th>\n",
       "      <td>0.069987</td>\n",
       "    </tr>\n",
       "  </tbody>\n",
       "</table>\n",
       "</div>"
      ],
      "text/plain": [
       "                                              Investment Weight\n",
       "Ambuja Cement Ltd.                                     0.085354\n",
       "Asian Paints                                           0.041868\n",
       "Can Fin Homes Ltd                                      0.139596\n",
       "Crompton Greaves Consumer Electricals Ltd.             0.046098\n",
       "Housing Development Finance Corporation Ltd.           0.141811\n",
       "Heidelbergcement India Ltd                             0.036211\n",
       "JK Cement Ltd                                          0.180214\n",
       "Kajaria Ceramics Ltd.                                  0.045201\n",
       "Orient Electric Ltd.                                   0.139265\n",
       "Polycab India Ltd                                      0.074396\n",
       "Supreme Industries Ltd.                                0.069987"
      ]
     },
     "execution_count": 22,
     "metadata": {},
     "output_type": "execute_result"
    }
   ],
   "source": [
    "ep3"
   ]
  },
  {
   "cell_type": "code",
   "execution_count": 23,
   "id": "babdf561",
   "metadata": {},
   "outputs": [
    {
     "data": {
      "text/plain": [
       "Ambuja Cement Ltd.                              0.415303\n",
       "Asian Paints                                    0.348833\n",
       "Can Fin Homes Ltd                               0.452497\n",
       "Crompton Greaves Consumer Electricals Ltd.      0.449908\n",
       "Housing Development Finance Corporation Ltd.    0.159837\n",
       "Heidelbergcement India Ltd                      0.304570\n",
       "JK Cement Ltd                                   0.822510\n",
       "Kajaria Ceramics Ltd.                           0.562052\n",
       "Orient Electric Ltd.                            0.496728\n",
       "Polycab India Ltd                               0.373305\n",
       "Supreme Industries Ltd.                         0.541328\n",
       "dtype: float64"
      ]
     },
     "execution_count": 23,
     "metadata": {},
     "output_type": "execute_result"
    }
   ],
   "source": [
    "mu = returns.mean() * 252\n",
    "mu1 = mu.drop(['Prince Pipes and Fittings Ltd.','Century Plyboards(India) Ltd.'])\n",
    "mu1"
   ]
  },
  {
   "cell_type": "code",
   "execution_count": 27,
   "id": "02d0c40a",
   "metadata": {},
   "outputs": [
    {
     "data": {
      "text/plain": [
       "47.61223236944802"
      ]
     },
     "execution_count": 27,
     "metadata": {},
     "output_type": "execute_result"
    }
   ],
   "source": [
    "# Return for Eigen Portfolio\n",
    "np.dot(ep3['Investment Weight'],mu1)*100"
   ]
  },
  {
   "cell_type": "code",
   "execution_count": 25,
   "id": "5092db6e-bf2a-40e8-bf8f-5ec4f741fbc2",
   "metadata": {},
   "outputs": [
    {
     "data": {
      "text/html": [
       "<div>\n",
       "<style scoped>\n",
       "    .dataframe tbody tr th:only-of-type {\n",
       "        vertical-align: middle;\n",
       "    }\n",
       "\n",
       "    .dataframe tbody tr th {\n",
       "        vertical-align: top;\n",
       "    }\n",
       "\n",
       "    .dataframe thead th {\n",
       "        text-align: right;\n",
       "    }\n",
       "</style>\n",
       "<table border=\"1\" class=\"dataframe\">\n",
       "  <thead>\n",
       "    <tr style=\"text-align: right;\">\n",
       "      <th></th>\n",
       "      <th>Weight%</th>\n",
       "    </tr>\n",
       "    <tr>\n",
       "      <th>Companies</th>\n",
       "      <th></th>\n",
       "    </tr>\n",
       "  </thead>\n",
       "  <tbody>\n",
       "    <tr>\n",
       "      <th>Ambuja Cement Ltd.</th>\n",
       "      <td>6.62</td>\n",
       "    </tr>\n",
       "    <tr>\n",
       "      <th>Asian Paints</th>\n",
       "      <td>10.19</td>\n",
       "    </tr>\n",
       "    <tr>\n",
       "      <th>Can Fin Homes Ltd</th>\n",
       "      <td>4.99</td>\n",
       "    </tr>\n",
       "    <tr>\n",
       "      <th>Century Plyboards(India) Ltd.</th>\n",
       "      <td>6.08</td>\n",
       "    </tr>\n",
       "    <tr>\n",
       "      <th>Crompton Greaves Consumer Electricals Ltd.</th>\n",
       "      <td>8.69</td>\n",
       "    </tr>\n",
       "    <tr>\n",
       "      <th>Housing Development Finance Corporation Ltd.</th>\n",
       "      <td>9.03</td>\n",
       "    </tr>\n",
       "    <tr>\n",
       "      <th>Heidelbergcement India Ltd</th>\n",
       "      <td>7.50</td>\n",
       "    </tr>\n",
       "    <tr>\n",
       "      <th>JK Cement Ltd</th>\n",
       "      <td>7.10</td>\n",
       "    </tr>\n",
       "    <tr>\n",
       "      <th>Kajaria Ceramics Ltd.</th>\n",
       "      <td>8.13</td>\n",
       "    </tr>\n",
       "    <tr>\n",
       "      <th>Orient Electric Ltd.</th>\n",
       "      <td>9.05</td>\n",
       "    </tr>\n",
       "    <tr>\n",
       "      <th>Polycab India Ltd</th>\n",
       "      <td>7.20</td>\n",
       "    </tr>\n",
       "    <tr>\n",
       "      <th>Prince Pipes and Fittings Ltd.</th>\n",
       "      <td>5.49</td>\n",
       "    </tr>\n",
       "    <tr>\n",
       "      <th>Supreme Industries Ltd.</th>\n",
       "      <td>9.87</td>\n",
       "    </tr>\n",
       "  </tbody>\n",
       "</table>\n",
       "</div>"
      ],
      "text/plain": [
       "                                              Weight%\n",
       "Companies                                            \n",
       "Ambuja Cement Ltd.                               6.62\n",
       "Asian Paints                                    10.19\n",
       "Can Fin Homes Ltd                                4.99\n",
       "Century Plyboards(India) Ltd.                    6.08\n",
       "Crompton Greaves Consumer Electricals Ltd.       8.69\n",
       "Housing Development Finance Corporation Ltd.     9.03\n",
       "Heidelbergcement India Ltd                       7.50\n",
       "JK Cement Ltd                                    7.10\n",
       "Kajaria Ceramics Ltd.                            8.13\n",
       "Orient Electric Ltd.                             9.05\n",
       "Polycab India Ltd                                7.20\n",
       "Prince Pipes and Fittings Ltd.                   5.49\n",
       "Supreme Industries Ltd.                          9.87"
      ]
     },
     "execution_count": 25,
     "metadata": {},
     "output_type": "execute_result"
    }
   ],
   "source": [
    "orignal_weights = pd.read_csv(\"/Users/pushpamahendra/Praxis Business School-Pushpa’s MacBook Air/Term 3/Capstone/data1_weights.csv\",index_col=0)\n",
    "orignal_weights"
   ]
  },
  {
   "cell_type": "code",
   "execution_count": 28,
   "id": "977c0035",
   "metadata": {},
   "outputs": [
    {
     "data": {
      "text/plain": [
       "48.00081831717577"
      ]
     },
     "execution_count": 28,
     "metadata": {},
     "output_type": "execute_result"
    }
   ],
   "source": [
    "# return for the Orginal  portfotlio\n",
    "np.dot(orignal_weights['Weight%'],mu) "
   ]
  },
  {
   "cell_type": "code",
   "execution_count": null,
   "id": "5b9cea72-b378-4c99-bcf7-0aadf5a45982",
   "metadata": {},
   "outputs": [],
   "source": []
  }
 ],
 "metadata": {
  "kernelspec": {
   "display_name": "Python 3",
   "language": "python",
   "name": "python3"
  },
  "language_info": {
   "codemirror_mode": {
    "name": "ipython",
    "version": 3
   },
   "file_extension": ".py",
   "mimetype": "text/x-python",
   "name": "python",
   "nbconvert_exporter": "python",
   "pygments_lexer": "ipython3",
   "version": "3.8.8"
  }
 },
 "nbformat": 4,
 "nbformat_minor": 5
}
